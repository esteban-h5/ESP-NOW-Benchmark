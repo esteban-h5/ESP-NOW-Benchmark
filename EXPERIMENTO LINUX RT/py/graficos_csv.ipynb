{
 "cells": [
  {
   "cell_type": "code",
   "execution_count": 11,
   "metadata": {},
   "outputs": [
    {
     "name": "stdout",
     "output_type": "stream",
     "text": [
      "e1_latencias_esp32_esp32.csv\n",
      "e1_latencias_esp32_esp32_s3.csv\n",
      "e1_latencias_esp32_s3_esp32.csv\n",
      "e1_latencias_esp32_s3_esp32_s3.csv\n",
      "e2_latencias_esp32_linux.csv\n",
      "e2_latencias_esp32_linuxRT.csv\n",
      "e2_latencias_esp32_s3_linux.csv\n",
      "e2_latencias_esp32_s3_linuxRT.csv\n"
     ]
    },
    {
     "data": {
      "text/plain": [
       "[None, None, None, None, None, None, None, None]"
      ]
     },
     "execution_count": 11,
     "metadata": {},
     "output_type": "execute_result"
    }
   ],
   "source": [
    "import pandas as pd, os\n",
    "\n",
    "pwd = os.getcwd()\n",
    "e1 = f\"{pwd}\\\\e1_resultados\"\n",
    "e2 = f\"{pwd}\\\\e2_resultados\"\n",
    "\n",
    "e1_1 = f\"{e1}\\\\e1_latencias_esp32_esp32.csv\"\n",
    "e1_2 = f\"{e1}\\\\e1_latencias_esp32_esp32_s3.csv\"\n",
    "e1_3 = f\"{e1}\\\\e1_latencias_esp32_s3_esp32.csv\"\n",
    "e1_4 = f\"{e1}\\\\e1_latencias_esp32_s3_esp32_s3.csv\"\n",
    "\n",
    "e2_1 = f\"{e2}\\\\e2_latencias_esp32_linux.csv\"\n",
    "e2_3 = f\"{e2}\\\\e2_latencias_esp32_s3_linux.csv\"\n",
    "e2_2 = f\"{e2}\\\\e2_latencias_esp32_linuxRT.csv\"\n",
    "e2_4 = f\"{e2}\\\\e2_latencias_esp32_s3_linuxRT.csv\"\n",
    "\n",
    "archivos_e1 = [e1_1, e1_2, e1_3, e1_4]\n",
    "archivos_e2 = [e2_1, e2_2, e2_3, e2_4]\n",
    "archivos = archivos_e1+archivos_e2\n",
    "\n",
    "[print(_.split(\"\\\\\")[-1]) for _ in archivos]"
   ]
  },
  {
   "cell_type": "code",
   "execution_count": 22,
   "metadata": {},
   "outputs": [
    {
     "data": {
      "text/html": [
       "<style type=\"text/css\">\n",
       "#T_dbbd9_row0_col0, #T_dbbd9_row0_col1, #T_dbbd9_row0_col2, #T_dbbd9_row0_col3, #T_dbbd9_row1_col0, #T_dbbd9_row1_col1, #T_dbbd9_row1_col2, #T_dbbd9_row1_col3, #T_dbbd9_row2_col0, #T_dbbd9_row2_col1, #T_dbbd9_row2_col2, #T_dbbd9_row2_col3, #T_dbbd9_row3_col0, #T_dbbd9_row3_col1, #T_dbbd9_row3_col2, #T_dbbd9_row3_col3 {\n",
       "  text-align: center;\n",
       "}\n",
       "</style>\n",
       "<table id=\"T_dbbd9\">\n",
       "  <thead>\n",
       "    <tr>\n",
       "      <th class=\"blank level0\" >&nbsp;</th>\n",
       "      <th id=\"T_dbbd9_level0_col0\" class=\"col_heading level0 col0\" >Master</th>\n",
       "      <th id=\"T_dbbd9_level0_col1\" class=\"col_heading level0 col1\" >Slave</th>\n",
       "      <th id=\"T_dbbd9_level0_col2\" class=\"col_heading level0 col2\" >Promedio RTT [ms]</th>\n",
       "      <th id=\"T_dbbd9_level0_col3\" class=\"col_heading level0 col3\" >Varianza RTT [ms]</th>\n",
       "    </tr>\n",
       "  </thead>\n",
       "  <tbody>\n",
       "    <tr>\n",
       "      <th id=\"T_dbbd9_level0_row0\" class=\"row_heading level0 row0\" >0</th>\n",
       "      <td id=\"T_dbbd9_row0_col0\" class=\"data row0 col0\" >ESP32</td>\n",
       "      <td id=\"T_dbbd9_row0_col1\" class=\"data row0 col1\" >ESP32</td>\n",
       "      <td id=\"T_dbbd9_row0_col2\" class=\"data row0 col2\" >15.297500</td>\n",
       "      <td id=\"T_dbbd9_row0_col3\" class=\"data row0 col3\" >69.886937</td>\n",
       "    </tr>\n",
       "    <tr>\n",
       "      <th id=\"T_dbbd9_level0_row1\" class=\"row_heading level0 row1\" >1</th>\n",
       "      <td id=\"T_dbbd9_row1_col0\" class=\"data row1 col0\" >ESP32</td>\n",
       "      <td id=\"T_dbbd9_row1_col1\" class=\"data row1 col1\" >ESP32-S3</td>\n",
       "      <td id=\"T_dbbd9_row1_col2\" class=\"data row1 col2\" >15.734500</td>\n",
       "      <td id=\"T_dbbd9_row1_col3\" class=\"data row1 col3\" >77.849935</td>\n",
       "    </tr>\n",
       "    <tr>\n",
       "      <th id=\"T_dbbd9_level0_row2\" class=\"row_heading level0 row2\" >2</th>\n",
       "      <td id=\"T_dbbd9_row2_col0\" class=\"data row2 col0\" >ESP32-S3</td>\n",
       "      <td id=\"T_dbbd9_row2_col1\" class=\"data row2 col1\" >ESP32</td>\n",
       "      <td id=\"T_dbbd9_row2_col2\" class=\"data row2 col2\" >13.118000</td>\n",
       "      <td id=\"T_dbbd9_row2_col3\" class=\"data row2 col3\" >98.791472</td>\n",
       "    </tr>\n",
       "    <tr>\n",
       "      <th id=\"T_dbbd9_level0_row3\" class=\"row_heading level0 row3\" >3</th>\n",
       "      <td id=\"T_dbbd9_row3_col0\" class=\"data row3 col0\" >ESP32-S3</td>\n",
       "      <td id=\"T_dbbd9_row3_col1\" class=\"data row3 col1\" >ESP32-S3</td>\n",
       "      <td id=\"T_dbbd9_row3_col2\" class=\"data row3 col2\" >14.974000</td>\n",
       "      <td id=\"T_dbbd9_row3_col3\" class=\"data row3 col3\" >101.587118</td>\n",
       "    </tr>\n",
       "  </tbody>\n",
       "</table>\n"
      ],
      "text/plain": [
       "<pandas.io.formats.style.Styler at 0x23f46e43850>"
      ]
     },
     "metadata": {},
     "output_type": "display_data"
    }
   ],
   "source": [
    "df = pd.DataFrame(columns=[\"Master\", \"Slave\", \"Promedio RTT [ms]\", \"Varianza RTT [ms]\"], index=None)\n",
    "\n",
    "for path_csv in archivos_e1:\n",
    "    data = pd.read_csv(path_csv, index_col=False)\n",
    "\n",
    "    nombre_archivo = path_csv.split(\"\\\\\")[-1]\n",
    "    versus = [\"ESP32\" if \"s3\" not in _ else \"ESP32-S3\" for _ in  nombre_archivo.split(\"esp32\")[-2:]]\n",
    "\n",
    "    promedio = data[data.columns.tolist()[0]].mean()\n",
    "    var = data[data.columns.tolist()[0]].var()\n",
    "\n",
    "    # print(f\"Archivo: {nombre_archivo} Promedio: {promedio} Varianza: {var}\")\n",
    "\n",
    "    df.loc[len(df)] = [versus[0], versus[1], promedio, var]\n",
    "\n",
    "display(df.style.set_properties(**{'text-align': 'center'}))\n",
    "# print(df.to_latex(index=False))"
   ]
  },
  {
   "cell_type": "code",
   "execution_count": 21,
   "metadata": {},
   "outputs": [
    {
     "data": {
      "text/html": [
       "<style type=\"text/css\">\n",
       "#T_5ba98_row0_col0, #T_5ba98_row0_col1, #T_5ba98_row0_col2, #T_5ba98_row0_col3, #T_5ba98_row1_col0, #T_5ba98_row1_col1, #T_5ba98_row1_col2, #T_5ba98_row1_col3, #T_5ba98_row2_col0, #T_5ba98_row2_col1, #T_5ba98_row2_col2, #T_5ba98_row2_col3, #T_5ba98_row3_col0, #T_5ba98_row3_col1, #T_5ba98_row3_col2, #T_5ba98_row3_col3 {\n",
       "  text-align: center;\n",
       "}\n",
       "</style>\n",
       "<table id=\"T_5ba98\">\n",
       "  <thead>\n",
       "    <tr>\n",
       "      <th class=\"blank level0\" >&nbsp;</th>\n",
       "      <th id=\"T_5ba98_level0_col0\" class=\"col_heading level0 col0\" >Master</th>\n",
       "      <th id=\"T_5ba98_level0_col1\" class=\"col_heading level0 col1\" >SO</th>\n",
       "      <th id=\"T_5ba98_level0_col2\" class=\"col_heading level0 col2\" >Promedio Latencia [ms]</th>\n",
       "      <th id=\"T_5ba98_level0_col3\" class=\"col_heading level0 col3\" >Varianza Latencia [ms]</th>\n",
       "    </tr>\n",
       "  </thead>\n",
       "  <tbody>\n",
       "    <tr>\n",
       "      <th id=\"T_5ba98_level0_row0\" class=\"row_heading level0 row0\" >0</th>\n",
       "      <td id=\"T_5ba98_row0_col0\" class=\"data row0 col0\" >ESP32</td>\n",
       "      <td id=\"T_5ba98_row0_col1\" class=\"data row0 col1\" >Linux</td>\n",
       "      <td id=\"T_5ba98_row0_col2\" class=\"data row0 col2\" >2.746504</td>\n",
       "      <td id=\"T_5ba98_row0_col3\" class=\"data row0 col3\" >0.326611</td>\n",
       "    </tr>\n",
       "    <tr>\n",
       "      <th id=\"T_5ba98_level0_row1\" class=\"row_heading level0 row1\" >1</th>\n",
       "      <td id=\"T_5ba98_row1_col0\" class=\"data row1 col0\" >ESP32</td>\n",
       "      <td id=\"T_5ba98_row1_col1\" class=\"data row1 col1\" >Linux RT</td>\n",
       "      <td id=\"T_5ba98_row1_col2\" class=\"data row1 col2\" >2.664020</td>\n",
       "      <td id=\"T_5ba98_row1_col3\" class=\"data row1 col3\" >0.292906</td>\n",
       "    </tr>\n",
       "    <tr>\n",
       "      <th id=\"T_5ba98_level0_row2\" class=\"row_heading level0 row2\" >2</th>\n",
       "      <td id=\"T_5ba98_row2_col0\" class=\"data row2 col0\" >ESP32-S3</td>\n",
       "      <td id=\"T_5ba98_row2_col1\" class=\"data row2 col1\" >Linux</td>\n",
       "      <td id=\"T_5ba98_row2_col2\" class=\"data row2 col2\" >2.773436</td>\n",
       "      <td id=\"T_5ba98_row2_col3\" class=\"data row2 col3\" >0.357707</td>\n",
       "    </tr>\n",
       "    <tr>\n",
       "      <th id=\"T_5ba98_level0_row3\" class=\"row_heading level0 row3\" >3</th>\n",
       "      <td id=\"T_5ba98_row3_col0\" class=\"data row3 col0\" >ESP32-S3</td>\n",
       "      <td id=\"T_5ba98_row3_col1\" class=\"data row3 col1\" >Linux RT</td>\n",
       "      <td id=\"T_5ba98_row3_col2\" class=\"data row3 col2\" >2.941356</td>\n",
       "      <td id=\"T_5ba98_row3_col3\" class=\"data row3 col3\" >0.044683</td>\n",
       "    </tr>\n",
       "  </tbody>\n",
       "</table>\n"
      ],
      "text/plain": [
       "<pandas.io.formats.style.Styler at 0x23f45bd1890>"
      ]
     },
     "metadata": {},
     "output_type": "display_data"
    }
   ],
   "source": [
    "df = pd.DataFrame(columns=[\"Master\", \"SO\", \"Promedio Latencia [ms]\", \"Varianza Latencia [ms]\"], index=None)\n",
    "\n",
    "for path_csv in archivos_e2:\n",
    "    data = pd.read_csv(path_csv, index_col=False)\n",
    "\n",
    "    nombre_archivo = path_csv.split(\"\\\\\")[-1]\n",
    "    \n",
    "    if \"s3\" in nombre_archivo:\n",
    "        master = \"ESP32-S3\"\n",
    "    else:\n",
    "        master = \"ESP32\"\n",
    "    \n",
    "    if \"RT\" in nombre_archivo:\n",
    "        sistema = \"Linux RT\"\n",
    "    else:\n",
    "        sistema = \"Linux\"\n",
    "\n",
    "    promedio = data[data.columns.tolist()[0]].mean()\n",
    "    var = data[data.columns.tolist()[0]].var()\n",
    "\n",
    "    # print(f\"Archivo: {nombre_archivo} Promedio: {promedio} Varianza: {var}\")\n",
    "\n",
    "    df.loc[len(df)] = [master, sistema, promedio, var]\n",
    "\n",
    "display(df.style.set_properties(**{'text-align': 'center'}))\n",
    "# print(df.to_latex(index=False))"
   ]
  }
 ],
 "metadata": {
  "kernelspec": {
   "display_name": "Python 3",
   "language": "python",
   "name": "python3"
  },
  "language_info": {
   "codemirror_mode": {
    "name": "ipython",
    "version": 3
   },
   "file_extension": ".py",
   "mimetype": "text/x-python",
   "name": "python",
   "nbconvert_exporter": "python",
   "pygments_lexer": "ipython3",
   "version": "3.11.6"
  }
 },
 "nbformat": 4,
 "nbformat_minor": 2
}
